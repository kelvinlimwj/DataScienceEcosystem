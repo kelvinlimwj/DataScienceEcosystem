{
  "metadata": {
    "kernelspec": {
      "name": "python",
      "display_name": "Python (Pyodide)",
      "language": "python"
    },
    "language_info": {
      "codemirror_mode": {
        "name": "python",
        "version": 3
      },
      "file_extension": ".py",
      "mimetype": "text/x-python",
      "name": "python",
      "nbconvert_exporter": "python",
      "pygments_lexer": "ipython3",
      "version": "3.8"
    }
  },
  "nbformat_minor": 4,
  "nbformat": 4,
  "cells": [
    {
      "cell_type": "markdown",
      "source": "<h1> Data Science EcoSystem",
      "metadata": {}
    },
    {
      "cell_type": "markdown",
      "source": "<h2> Introduction </h2>\n\nThis notebook contains various exercises related to Data Science, including markdown cells for documentation and code cells for computations.",
      "metadata": {}
    },
    {
      "cell_type": "markdown",
      "source": "# Data Science Languages\n\n- Python\n- R\n- SQL\n- Julia\n- Scala",
      "metadata": {}
    },
    {
      "cell_type": "markdown",
      "source": "#  Data Science Libraries\n\n- Pandas\n- NumPy\n- Matplotlib\n- SciPy\n- scikit-learn\n- TensorFlow\n- Keras\n- ggplot2",
      "metadata": {}
    },
    {
      "cell_type": "markdown",
      "source": "# Table of Data Science Tools\n\n| Tool        | Description                           |\n|-------------|---------------------------------------|\n| Jupyter     | Interactive computing environment     |\n| RStudio     | Integrated development environment    |\n| Apache Spark| Cluster-computing framework           |\n| TensorFlow  | Machine learning library              |\n| GitHub      | Version control and collaboration     |",
      "metadata": {}
    },
    {
      "cell_type": "markdown",
      "source": "# Arithmetic Expression Examples\n\nBelow are examples of arithmetic expressions in Python.",
      "metadata": {}
    },
    {
      "cell_type": "code",
      "source": "# Multiplication\nproduct = 7 * 6\nproduct",
      "metadata": {
        "trusted": true
      },
      "outputs": [
        {
          "execution_count": 1,
          "output_type": "execute_result",
          "data": {
            "text/plain": "42"
          },
          "metadata": {}
        }
      ],
      "execution_count": 1
    },
    {
      "cell_type": "code",
      "source": "# Addition\nsum_result = 7 + 6\nsum_result",
      "metadata": {
        "trusted": true
      },
      "outputs": [
        {
          "execution_count": 2,
          "output_type": "execute_result",
          "data": {
            "text/plain": "13"
          },
          "metadata": {}
        }
      ],
      "execution_count": 2
    },
    {
      "cell_type": "markdown",
      "source": "# Convert Minutes to Hours\n\nBelow is a code cell to convert minutes to hours.",
      "metadata": {}
    },
    {
      "cell_type": "code",
      "source": "# Conversion\nminutes = 150\nhours = minutes / 60\nhours",
      "metadata": {
        "trusted": true
      },
      "outputs": [
        {
          "execution_count": 3,
          "output_type": "execute_result",
          "data": {
            "text/plain": "2.5"
          },
          "metadata": {}
        }
      ],
      "execution_count": 3
    },
    {
      "cell_type": "markdown",
      "source": "# Objectives\n\n- Understand basic data science concepts\n- Learn common data science languages and libraries\n- Practice using Jupyter Notebook for documentation and computation\n- Perform arithmetic operations in Python",
      "metadata": {}
    },
    {
      "cell_type": "markdown",
      "source": "# Author\n\nKelvin Lim",
      "metadata": {}
    },
    {
      "cell_type": "code",
      "source": "",
      "metadata": {
        "trusted": true
      },
      "outputs": [],
      "execution_count": null
    }
  ]
}